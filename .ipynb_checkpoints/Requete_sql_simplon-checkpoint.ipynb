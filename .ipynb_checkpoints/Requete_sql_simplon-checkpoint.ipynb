{
 "cells": [
  {
   "cell_type": "markdown",
   "id": "8a993062",
   "metadata": {
    "id": "8a993062"
   },
   "source": []
  },
  {
   "cell_type": "code",
   "execution_count": 8,
   "id": "61ec3427",
   "metadata": {},
   "outputs": [],
   "source": [
    "import pandas as pd"
   ]
  },
  {
   "cell_type": "code",
   "execution_count": 2,
   "id": "8863be84",
   "metadata": {
    "id": "8863be84"
   },
   "outputs": [],
   "source": [
    "#import the library sqlite3\n",
    "import sqlite3\n",
    "\n",
    "#create a new database and open a database connection with the name example\n",
    "example = sqlite3.connect(\"example.db\")\n",
    "\n",
    "# create a data cursor cur in order execute SQL statements and fetch results from SQL queries\n",
    "cur = example.cursor()\n",
    "\n",
    "# Create table with the column date, side, symbol, qty, price\n",
    "cur.execute(\"CREATE TABLE stock (date VarChar(10), side VarChar(20), symbol VarChar(20), qty float, price float)\")\n",
    "\n",
    "# Insert 3 row of data: the stock APPLE ( AAPL) with the date of transaction, the nature of side ( BUY or SELL),\n",
    "#the quantity of the stock traded and the price\n",
    "cur.execute(\"\"\"\n",
    "    INSERT INTO stock (date, side, symbol, qty, price) VALUES\n",
    "        ('2021-01-01', 'BUY', 'AAPL', 100, 148.48),\n",
    "        ('2021-01-02', 'SELL', 'AAPL', 100, 149.11),\n",
    "        ('2021-01-03', 'BUY', 'AAPL', 75, 144.27),\n",
    "        ('2021-01-04', 'SELL', 'AAPL', '75', '146.39')\n",
    "        \"\"\") \n",
    "\n",
    "# Save (commit) the changes\n",
    "example.commit() \n",
    "\n",
    "#return all resulting rows\n",
    "res = cur.execute(\"SELECT * FROM stock\")\n",
    "res.fetchall()\n",
    "\n",
    "# Close the connection\n",
    "example.close()\n",
    "\n",
    "# #for more informations : https://docs.python.org/3/library/sqlite3.html"
   ]
  },
  {
   "cell_type": "markdown",
   "id": "76743900",
   "metadata": {
    "id": "76743900"
   },
   "source": [
    "## the construction of a financial database"
   ]
  },
  {
   "cell_type": "markdown",
   "id": "079ed02c",
   "metadata": {
    "id": "079ed02c"
   },
   "source": [
    "Let’s start simple and only consider the structure for the equity data that we are gathering for now – in our case the constituents of the S&P500 index. We can tag on the various tables and possibly whole databases to the mix as and when we need to, i.e. when we start to deal with the spot currency data and fund data that we plan to include.\n",
    "\n",
    "the  plan is to segregate theequity data into 4 separate tables, using unique ids and foreign keys to create the relevant relationships and links between them.\n",
    "\n",
    "The tables will be as follows:"
   ]
  },
  {
   "cell_type": "markdown",
   "id": "738ad0da",
   "metadata": {
    "id": "738ad0da"
   },
   "source": [
    "\n",
    "<img src='Tables.png'>"
   ]
  },
  {
   "cell_type": "markdown",
   "id": "93a5ea0d",
   "metadata": {
    "id": "93a5ea0d"
   },
   "source": [
    "<img src='C:\\Users\\User\\Desktop\\Formations_Data-LAPTOP-JP680GIQ\\Formations_Data-LAPTOP-JP680GIQ\\Organisme_formation\\Ib_cegos\\AXA\\MCD.png'>"
   ]
  },
  {
   "cell_type": "code",
   "execution_count": 7,
   "id": "8740a645",
   "metadata": {
    "id": "8740a645"
   },
   "outputs": [],
   "source": [
    "#import the library os and the module Error of the library sqlite3\n",
    "import os\n",
    "import sqlite3\n",
    "from sqlite3 import Error\n",
    "def create_connection(db_file):\n",
    "    \"\"\" create a database connection to the SQLite database\n",
    "        specified by db_file\n",
    "    :param db_file: database file\n",
    "    :return: Connection object or None\n",
    "    \"\"\"\n",
    "    #YOUR CODE \n",
    "    conn = None\n",
    "    try: \n",
    "        conn = sqlite3.connect(db_file)\n",
    "        return conn\n",
    "    except :\n",
    "        print (\"erreur\")\n",
    "        \n",
    "    return conn\n",
    "\n",
    "\n",
    "def create_table(conn, create_table_sql):\n",
    "    \"\"\" create a table from the create_table_sql statement\n",
    "    :param conn: Connection object\n",
    "    :param create_table_sql: a CREATE TABLE statement\n",
    "    :return:\n",
    "    \"\"\"\n",
    "    #YOUR CODE \n",
    "    try : \n",
    "        cur = conn.cursor()\n",
    "        cur.execute(create_table_sql)  \n",
    "              \n",
    "    except :\n",
    "        print(\"erreur\")\n",
    "\n",
    "#the name of the database\n",
    "db_name = \"data.db\"\n",
    "        \n",
    "def main():\n",
    "\n",
    "    \n",
    "    # create the tables according to the MCD\n",
    "    sql_create_exchange_table = \"\"\" CREATE TABLE IF NOT EXISTS exchange (\n",
    "                                        id integer ,\n",
    "                                        name text NOT NULL,\n",
    "                                        currency VarChar(5),\n",
    "                                        code text NOT NULL UNIQUE,\n",
    "                                        PRIMARY KEY(id)\n",
    "                                    ); \"\"\"\n",
    "    \n",
    "    sql_create_company_table = \"\"\"CREATE TABLE IF NOT EXISTS company (\n",
    "                                    id integer ,\n",
    "                                    name text NOT NULL,\n",
    "                                    industry text,\n",
    "                                    sector text,\n",
    "                                    hq_location text,\n",
    "                                    security_id integer,\n",
    "                                    PRIMARY KEY(id),\n",
    "                                    FOREIGN KEY (security_id) REFERENCES security (id)\n",
    "                                );\"\"\"\n",
    "    \n",
    "    \n",
    "    sql_create_security_table = \"\"\"CREATE TABLE IF NOT EXISTS security (\n",
    "                                id integer,\n",
    "                                ticker text NOT NULL UNIQUE,\n",
    "                                name text NOT NULL,\n",
    "                                company_id integer,\n",
    "                                exchange_id integer,\n",
    "                                PRIMARY KEY(id)\n",
    "                                FOREIGN KEY (company_id) REFERENCES company (id),\n",
    "                                FOREIGN KEY (exchange_id) REFERENCES exchange (id)\n",
    "                            );\"\"\"\n",
    "    \n",
    "    sql_create_security_price_table =  \"\"\"CREATE TABLE IF NOT EXISTS security_price (\n",
    "                        id integer,\n",
    "                        date text NOT NULL,\n",
    "                        open decimal NOT NULL,\n",
    "                        high decimal NOT NULL,\n",
    "                        low decimal NOT NULL,\n",
    "                        close decimal NOT NULL,\n",
    "                        volume integer,\n",
    "                        adj_close decimal NOT NULL,\n",
    "                        security_id integer,\n",
    "                        PRIMARY KEY(id),\n",
    "                        FOREIGN KEY (security_id) REFERENCES security (id)\n",
    "                    );\"\"\"\n",
    "\n",
    "    \n",
    "    # create a database connection\n",
    "    #YOUR CODE\n",
    "    conn = create_connection(db_name)\n",
    "    \n",
    "    \n",
    "    # create tables\n",
    "    if conn is not None:\n",
    "        # create exchange table\n",
    "        #YOUR CODE\n",
    "        create_table(conn, sql_create_exchange_table)\n",
    "    \n",
    "        # create company table\n",
    "        #YOUR CODE\n",
    "        create_table(conn, sql_create_company_table)\n",
    "        \n",
    "        # create security table\n",
    "        #YOUR CODE\n",
    "        create_table(conn, sql_create_security_table)\n",
    "        \n",
    "        # create security_price table\n",
    "        #YOUR CODE\n",
    "        create_table(conn, sql_create_security_price_table)\n",
    "        \n",
    "    else:\n",
    "        print(\"Error! cannot create the database connection.\")\n",
    "main()"
   ]
  },
  {
   "cell_type": "code",
   "execution_count": 9,
   "id": "8eb48307",
   "metadata": {
    "id": "8eb48307"
   },
   "outputs": [],
   "source": [
    "#import the library pandas , requests and io\n",
    "exchange_data = pd.read_csv(\"https://www.iso20022.org/sites/default/files/ISO10383_MIC/ISO10383_MIC.csv\", encoding='iso-8859-1' )\n"
   ]
  },
  {
   "cell_type": "code",
   "execution_count": 11,
   "id": "c775cdde",
   "metadata": {
    "id": "c775cdde",
    "outputId": "aa7f5c3f-3a7e-4e44-b6cf-124a77f1e220"
   },
   "outputs": [
    {
     "data": {
      "text/html": [
       "<div>\n",
       "<style scoped>\n",
       "    .dataframe tbody tr th:only-of-type {\n",
       "        vertical-align: middle;\n",
       "    }\n",
       "\n",
       "    .dataframe tbody tr th {\n",
       "        vertical-align: top;\n",
       "    }\n",
       "\n",
       "    .dataframe thead th {\n",
       "        text-align: right;\n",
       "    }\n",
       "</style>\n",
       "<table border=\"1\" class=\"dataframe\">\n",
       "  <thead>\n",
       "    <tr style=\"text-align: right;\">\n",
       "      <th></th>\n",
       "      <th>MIC</th>\n",
       "      <th>OPERATING MIC</th>\n",
       "      <th>OPRT/SGMT</th>\n",
       "      <th>MARKET NAME-INSTITUTION DESCRIPTION</th>\n",
       "      <th>LEGAL ENTITY NAME</th>\n",
       "      <th>LEI</th>\n",
       "      <th>MARKET CATEGORY CODE</th>\n",
       "      <th>ACRONYM</th>\n",
       "      <th>ISO COUNTRY CODE (ISO 3166)</th>\n",
       "      <th>CITY</th>\n",
       "      <th>WEBSITE</th>\n",
       "      <th>STATUS</th>\n",
       "      <th>CREATION DATE</th>\n",
       "      <th>LAST UPDATE DATE</th>\n",
       "      <th>LAST VALIDATION DATE</th>\n",
       "      <th>EXPIRY DATE</th>\n",
       "      <th>COMMENTS</th>\n",
       "    </tr>\n",
       "  </thead>\n",
       "  <tbody>\n",
       "    <tr>\n",
       "      <th>0</th>\n",
       "      <td>DRSP</td>\n",
       "      <td>DRSP</td>\n",
       "      <td>OPRT</td>\n",
       "      <td>EURONEXT  UK - REPORTING SERVICES</td>\n",
       "      <td>EURONEXT LONDON LIMITED</td>\n",
       "      <td>969500HMVSZ0TCV65D58</td>\n",
       "      <td>APPA</td>\n",
       "      <td>NaN</td>\n",
       "      <td>GB</td>\n",
       "      <td>LONDON</td>\n",
       "      <td>WWW.EURONEXT.COM</td>\n",
       "      <td>ACTIVE</td>\n",
       "      <td>20210927</td>\n",
       "      <td>20210927</td>\n",
       "      <td>20210927.0</td>\n",
       "      <td>NaN</td>\n",
       "      <td>APPROVED PUBLICATION ARRANGEMENT.</td>\n",
       "    </tr>\n",
       "    <tr>\n",
       "      <th>1</th>\n",
       "      <td>XCNQ</td>\n",
       "      <td>XCNQ</td>\n",
       "      <td>OPRT</td>\n",
       "      <td>CANADIAN SECURITIES EXCHANGE</td>\n",
       "      <td>CNSX MARKETS, INC.</td>\n",
       "      <td>NaN</td>\n",
       "      <td>RMKT</td>\n",
       "      <td>CSE LISTED</td>\n",
       "      <td>CA</td>\n",
       "      <td>TORONTO</td>\n",
       "      <td>WWW.THECSE.COM</td>\n",
       "      <td>ACTIVE</td>\n",
       "      <td>20090427</td>\n",
       "      <td>20210927</td>\n",
       "      <td>20210927.0</td>\n",
       "      <td>NaN</td>\n",
       "      <td>FORMERLY KNOWN AS PURE (CSE OTHER LISTED) FORM...</td>\n",
       "    </tr>\n",
       "    <tr>\n",
       "      <th>2</th>\n",
       "      <td>PURE</td>\n",
       "      <td>XCNQ</td>\n",
       "      <td>SGMT</td>\n",
       "      <td>CANADIAN SECURITIES EXCHANGE - PURE</td>\n",
       "      <td>CNSX MARKETS, INC.</td>\n",
       "      <td>NaN</td>\n",
       "      <td>NSPD</td>\n",
       "      <td>CSE-PURE</td>\n",
       "      <td>CA</td>\n",
       "      <td>TORONTO</td>\n",
       "      <td>WWW.THECSE.COM</td>\n",
       "      <td>ACTIVE</td>\n",
       "      <td>20061225</td>\n",
       "      <td>20210927</td>\n",
       "      <td>20210927.0</td>\n",
       "      <td>NaN</td>\n",
       "      <td>FORMERLY KNOWN AS PURE (CSE OTHER LISTED) FORM...</td>\n",
       "    </tr>\n",
       "  </tbody>\n",
       "</table>\n",
       "</div>"
      ],
      "text/plain": [
       "    MIC OPERATING MIC OPRT/SGMT  MARKET NAME-INSTITUTION DESCRIPTION  \\\n",
       "0  DRSP          DRSP      OPRT    EURONEXT  UK - REPORTING SERVICES   \n",
       "1  XCNQ          XCNQ      OPRT         CANADIAN SECURITIES EXCHANGE   \n",
       "2  PURE          XCNQ      SGMT  CANADIAN SECURITIES EXCHANGE - PURE   \n",
       "\n",
       "         LEGAL ENTITY NAME                   LEI MARKET CATEGORY CODE  \\\n",
       "0  EURONEXT LONDON LIMITED  969500HMVSZ0TCV65D58                 APPA   \n",
       "1       CNSX MARKETS, INC.                   NaN                 RMKT   \n",
       "2       CNSX MARKETS, INC.                   NaN                 NSPD   \n",
       "\n",
       "      ACRONYM ISO COUNTRY CODE (ISO 3166)     CITY           WEBSITE  STATUS  \\\n",
       "0         NaN                          GB   LONDON  WWW.EURONEXT.COM  ACTIVE   \n",
       "1  CSE LISTED                          CA  TORONTO    WWW.THECSE.COM  ACTIVE   \n",
       "2    CSE-PURE                          CA  TORONTO    WWW.THECSE.COM  ACTIVE   \n",
       "\n",
       "   CREATION DATE  LAST UPDATE DATE  LAST VALIDATION DATE  EXPIRY DATE  \\\n",
       "0       20210927          20210927            20210927.0          NaN   \n",
       "1       20090427          20210927            20210927.0          NaN   \n",
       "2       20061225          20210927            20210927.0          NaN   \n",
       "\n",
       "                                            COMMENTS  \n",
       "0                  APPROVED PUBLICATION ARRANGEMENT.  \n",
       "1  FORMERLY KNOWN AS PURE (CSE OTHER LISTED) FORM...  \n",
       "2  FORMERLY KNOWN AS PURE (CSE OTHER LISTED) FORM...  "
      ]
     },
     "execution_count": 11,
     "metadata": {},
     "output_type": "execute_result"
    }
   ],
   "source": [
    "exchange_data.head(3)"
   ]
  },
  {
   "cell_type": "code",
   "execution_count": 12,
   "id": "f7fe6d4c",
   "metadata": {
    "id": "f7fe6d4c",
    "outputId": "ac1b547a-febf-4a28-d14b-dc742815630f"
   },
   "outputs": [
    {
     "name": "stdout",
     "output_type": "stream",
     "text": [
      "<class 'pandas.core.frame.DataFrame'>\n",
      "RangeIndex: 2561 entries, 0 to 2560\n",
      "Data columns (total 17 columns):\n",
      " #   Column                               Non-Null Count  Dtype  \n",
      "---  ------                               --------------  -----  \n",
      " 0   MIC                                  2561 non-null   object \n",
      " 1   OPERATING MIC                        2561 non-null   object \n",
      " 2   OPRT/SGMT                            2561 non-null   object \n",
      " 3   MARKET NAME-INSTITUTION DESCRIPTION  2561 non-null   object \n",
      " 4   LEGAL ENTITY NAME                    495 non-null    object \n",
      " 5   LEI                                  1833 non-null   object \n",
      " 6   MARKET CATEGORY CODE                 2559 non-null   object \n",
      " 7   ACRONYM                              890 non-null    object \n",
      " 8   ISO COUNTRY CODE (ISO 3166)          2560 non-null   object \n",
      " 9   CITY                                 2559 non-null   object \n",
      " 10  WEBSITE                              2387 non-null   object \n",
      " 11  STATUS                               2561 non-null   object \n",
      " 12  CREATION DATE                        2561 non-null   int64  \n",
      " 13  LAST UPDATE DATE                     2561 non-null   int64  \n",
      " 14  LAST VALIDATION DATE                 213 non-null    float64\n",
      " 15  EXPIRY DATE                          438 non-null    float64\n",
      " 16  COMMENTS                             1502 non-null   object \n",
      "dtypes: float64(2), int64(2), object(13)\n",
      "memory usage: 340.3+ KB\n"
     ]
    }
   ],
   "source": [
    "exchange_data.info()"
   ]
  },
  {
   "cell_type": "code",
   "execution_count": 13,
   "id": "3fa87e37",
   "metadata": {
    "id": "3fa87e37",
    "outputId": "2ff42d76-0491-4c4c-960e-353320a9d0bb"
   },
   "outputs": [
    {
     "data": {
      "text/html": [
       "<div>\n",
       "<style scoped>\n",
       "    .dataframe tbody tr th:only-of-type {\n",
       "        vertical-align: middle;\n",
       "    }\n",
       "\n",
       "    .dataframe tbody tr th {\n",
       "        vertical-align: top;\n",
       "    }\n",
       "\n",
       "    .dataframe thead th {\n",
       "        text-align: right;\n",
       "    }\n",
       "</style>\n",
       "<table border=\"1\" class=\"dataframe\">\n",
       "  <thead>\n",
       "    <tr style=\"text-align: right;\">\n",
       "      <th></th>\n",
       "      <th>ISO COUNTRY CODE (ISO 3166)</th>\n",
       "      <th>MIC</th>\n",
       "      <th>MARKET NAME-INSTITUTION DESCRIPTION</th>\n",
       "      <th>ACRONYM</th>\n",
       "    </tr>\n",
       "  </thead>\n",
       "  <tbody>\n",
       "    <tr>\n",
       "      <th>0</th>\n",
       "      <td>GB</td>\n",
       "      <td>DRSP</td>\n",
       "      <td>EURONEXT  UK - REPORTING SERVICES</td>\n",
       "      <td>NaN</td>\n",
       "    </tr>\n",
       "    <tr>\n",
       "      <th>1</th>\n",
       "      <td>CA</td>\n",
       "      <td>XCNQ</td>\n",
       "      <td>CANADIAN SECURITIES EXCHANGE</td>\n",
       "      <td>CSE LISTED</td>\n",
       "    </tr>\n",
       "    <tr>\n",
       "      <th>2</th>\n",
       "      <td>CA</td>\n",
       "      <td>PURE</td>\n",
       "      <td>CANADIAN SECURITIES EXCHANGE - PURE</td>\n",
       "      <td>CSE-PURE</td>\n",
       "    </tr>\n",
       "    <tr>\n",
       "      <th>3</th>\n",
       "      <td>GB</td>\n",
       "      <td>ZODM</td>\n",
       "      <td>ZODIA MARKETS</td>\n",
       "      <td>NaN</td>\n",
       "    </tr>\n",
       "    <tr>\n",
       "      <th>4</th>\n",
       "      <td>US</td>\n",
       "      <td>FNFX</td>\n",
       "      <td>FENICS FX ECN</td>\n",
       "      <td>NaN</td>\n",
       "    </tr>\n",
       "  </tbody>\n",
       "</table>\n",
       "</div>"
      ],
      "text/plain": [
       "  ISO COUNTRY CODE (ISO 3166)   MIC  MARKET NAME-INSTITUTION DESCRIPTION  \\\n",
       "0                          GB  DRSP    EURONEXT  UK - REPORTING SERVICES   \n",
       "1                          CA  XCNQ         CANADIAN SECURITIES EXCHANGE   \n",
       "2                          CA  PURE  CANADIAN SECURITIES EXCHANGE - PURE   \n",
       "3                          GB  ZODM                        ZODIA MARKETS   \n",
       "4                          US  FNFX                        FENICS FX ECN   \n",
       "\n",
       "      ACRONYM  \n",
       "0         NaN  \n",
       "1  CSE LISTED  \n",
       "2    CSE-PURE  \n",
       "3         NaN  \n",
       "4         NaN  "
      ]
     },
     "execution_count": 13,
     "metadata": {},
     "output_type": "execute_result"
    }
   ],
   "source": [
    "exchange_data = exchange_data[['ISO COUNTRY CODE (ISO 3166)', 'MIC', 'MARKET NAME-INSTITUTION DESCRIPTION', 'ACRONYM']]\n",
    "exchange_data.head()\n"
   ]
  },
  {
   "cell_type": "code",
   "execution_count": 14,
   "id": "dd3154e2",
   "metadata": {
    "id": "dd3154e2",
    "outputId": "87bbeadb-612e-47dd-ec26-6f31cb899629"
   },
   "outputs": [
    {
     "data": {
      "text/html": [
       "<div>\n",
       "<style scoped>\n",
       "    .dataframe tbody tr th:only-of-type {\n",
       "        vertical-align: middle;\n",
       "    }\n",
       "\n",
       "    .dataframe tbody tr th {\n",
       "        vertical-align: top;\n",
       "    }\n",
       "\n",
       "    .dataframe thead th {\n",
       "        text-align: right;\n",
       "    }\n",
       "</style>\n",
       "<table border=\"1\" class=\"dataframe\">\n",
       "  <thead>\n",
       "    <tr style=\"text-align: right;\">\n",
       "      <th></th>\n",
       "      <th>country_code</th>\n",
       "      <th>code</th>\n",
       "      <th>name</th>\n",
       "      <th>acronym</th>\n",
       "    </tr>\n",
       "  </thead>\n",
       "  <tbody>\n",
       "    <tr>\n",
       "      <th>0</th>\n",
       "      <td>GB</td>\n",
       "      <td>DRSP</td>\n",
       "      <td>EURONEXT  UK - REPORTING SERVICES</td>\n",
       "      <td>NaN</td>\n",
       "    </tr>\n",
       "    <tr>\n",
       "      <th>1</th>\n",
       "      <td>CA</td>\n",
       "      <td>XCNQ</td>\n",
       "      <td>CANADIAN SECURITIES EXCHANGE</td>\n",
       "      <td>CSE LISTED</td>\n",
       "    </tr>\n",
       "    <tr>\n",
       "      <th>2</th>\n",
       "      <td>CA</td>\n",
       "      <td>PURE</td>\n",
       "      <td>CANADIAN SECURITIES EXCHANGE - PURE</td>\n",
       "      <td>CSE-PURE</td>\n",
       "    </tr>\n",
       "    <tr>\n",
       "      <th>3</th>\n",
       "      <td>GB</td>\n",
       "      <td>ZODM</td>\n",
       "      <td>ZODIA MARKETS</td>\n",
       "      <td>NaN</td>\n",
       "    </tr>\n",
       "    <tr>\n",
       "      <th>4</th>\n",
       "      <td>US</td>\n",
       "      <td>FNFX</td>\n",
       "      <td>FENICS FX ECN</td>\n",
       "      <td>NaN</td>\n",
       "    </tr>\n",
       "  </tbody>\n",
       "</table>\n",
       "</div>"
      ],
      "text/plain": [
       "  country_code  code                                 name     acronym\n",
       "0           GB  DRSP    EURONEXT  UK - REPORTING SERVICES         NaN\n",
       "1           CA  XCNQ         CANADIAN SECURITIES EXCHANGE  CSE LISTED\n",
       "2           CA  PURE  CANADIAN SECURITIES EXCHANGE - PURE    CSE-PURE\n",
       "3           GB  ZODM                        ZODIA MARKETS         NaN\n",
       "4           US  FNFX                        FENICS FX ECN         NaN"
      ]
     },
     "execution_count": 14,
     "metadata": {},
     "output_type": "execute_result"
    }
   ],
   "source": [
    "exchange_data.rename(columns={'ISO COUNTRY CODE (ISO 3166)' : 'country_code', \n",
    "                              'MIC':'code', \n",
    "                              'MARKET NAME-INSTITUTION DESCRIPTION': 'name',\n",
    "                              'ACRONYM':'acronym'}, inplace=True)\n",
    "exchange_data.head()"
   ]
  },
  {
   "cell_type": "code",
   "execution_count": 23,
   "id": "735beda3",
   "metadata": {
    "id": "735beda3",
    "outputId": "0972c8b9-da94-4646-b590-00abfa37eb55"
   },
   "outputs": [
    {
     "data": {
      "text/html": [
       "<div>\n",
       "<style scoped>\n",
       "    .dataframe tbody tr th:only-of-type {\n",
       "        vertical-align: middle;\n",
       "    }\n",
       "\n",
       "    .dataframe tbody tr th {\n",
       "        vertical-align: top;\n",
       "    }\n",
       "\n",
       "    .dataframe thead th {\n",
       "        text-align: right;\n",
       "    }\n",
       "</style>\n",
       "<table border=\"1\" class=\"dataframe\">\n",
       "  <thead>\n",
       "    <tr style=\"text-align: right;\">\n",
       "      <th></th>\n",
       "      <th>country_code</th>\n",
       "      <th>code</th>\n",
       "      <th>name</th>\n",
       "      <th>acronym</th>\n",
       "      <th>id</th>\n",
       "    </tr>\n",
       "  </thead>\n",
       "  <tbody>\n",
       "    <tr>\n",
       "      <th>0</th>\n",
       "      <td>GB</td>\n",
       "      <td>DRSP</td>\n",
       "      <td>EURONEXT  UK - REPORTING SERVICES</td>\n",
       "      <td>NaN</td>\n",
       "      <td>0</td>\n",
       "    </tr>\n",
       "    <tr>\n",
       "      <th>1</th>\n",
       "      <td>CA</td>\n",
       "      <td>XCNQ</td>\n",
       "      <td>CANADIAN SECURITIES EXCHANGE</td>\n",
       "      <td>CSE LISTED</td>\n",
       "      <td>1</td>\n",
       "    </tr>\n",
       "    <tr>\n",
       "      <th>2</th>\n",
       "      <td>CA</td>\n",
       "      <td>PURE</td>\n",
       "      <td>CANADIAN SECURITIES EXCHANGE - PURE</td>\n",
       "      <td>CSE-PURE</td>\n",
       "      <td>2</td>\n",
       "    </tr>\n",
       "    <tr>\n",
       "      <th>3</th>\n",
       "      <td>GB</td>\n",
       "      <td>ZODM</td>\n",
       "      <td>ZODIA MARKETS</td>\n",
       "      <td>NaN</td>\n",
       "      <td>3</td>\n",
       "    </tr>\n",
       "    <tr>\n",
       "      <th>4</th>\n",
       "      <td>US</td>\n",
       "      <td>FNFX</td>\n",
       "      <td>FENICS FX ECN</td>\n",
       "      <td>NaN</td>\n",
       "      <td>4</td>\n",
       "    </tr>\n",
       "  </tbody>\n",
       "</table>\n",
       "</div>"
      ],
      "text/plain": [
       "  country_code  code                                 name     acronym  id\n",
       "0           GB  DRSP    EURONEXT  UK - REPORTING SERVICES         NaN   0\n",
       "1           CA  XCNQ         CANADIAN SECURITIES EXCHANGE  CSE LISTED   1\n",
       "2           CA  PURE  CANADIAN SECURITIES EXCHANGE - PURE    CSE-PURE   2\n",
       "3           GB  ZODM                        ZODIA MARKETS         NaN   3\n",
       "4           US  FNFX                        FENICS FX ECN         NaN   4"
      ]
     },
     "execution_count": 23,
     "metadata": {},
     "output_type": "execute_result"
    }
   ],
   "source": [
    "exchange_data['id'] = exchange_data.index\n",
    "exchange_data.head()"
   ]
  },
  {
   "cell_type": "code",
   "execution_count": 27,
   "id": "69ee607c",
   "metadata": {},
   "outputs": [
    {
     "data": {
      "text/plain": [
       "0       GB\n",
       "1       CA\n",
       "2       CA\n",
       "3       GB\n",
       "4       US\n",
       "        ..\n",
       "2556    US\n",
       "2557    NO\n",
       "2558    US\n",
       "2559    US\n",
       "2560    GB\n",
       "Name: country_code, Length: 2561, dtype: object"
      ]
     },
     "execution_count": 27,
     "metadata": {},
     "output_type": "execute_result"
    }
   ],
   "source": [
    "exchange_data['country_code']"
   ]
  },
  {
   "cell_type": "code",
   "execution_count": 43,
   "id": "47016b70",
   "metadata": {
    "id": "47016b70",
    "outputId": "346c6a5a-0422-49e4-cd51-3a80c73b4e88"
   },
   "outputs": [
    {
     "data": {
      "text/html": [
       "<div>\n",
       "<style scoped>\n",
       "    .dataframe tbody tr th:only-of-type {\n",
       "        vertical-align: middle;\n",
       "    }\n",
       "\n",
       "    .dataframe tbody tr th {\n",
       "        vertical-align: top;\n",
       "    }\n",
       "\n",
       "    .dataframe thead th {\n",
       "        text-align: right;\n",
       "    }\n",
       "</style>\n",
       "<table border=\"1\" class=\"dataframe\">\n",
       "  <thead>\n",
       "    <tr style=\"text-align: right;\">\n",
       "      <th></th>\n",
       "      <th>id</th>\n",
       "      <th>name</th>\n",
       "      <th>currency</th>\n",
       "      <th>code</th>\n",
       "    </tr>\n",
       "  </thead>\n",
       "  <tbody>\n",
       "    <tr>\n",
       "      <th>0</th>\n",
       "      <td>0</td>\n",
       "      <td>EURONEXT  UK - REPORTING SERVICES</td>\n",
       "      <td>GBP</td>\n",
       "      <td>DRSP</td>\n",
       "    </tr>\n",
       "    <tr>\n",
       "      <th>1</th>\n",
       "      <td>1</td>\n",
       "      <td>CANADIAN SECURITIES EXCHANGE</td>\n",
       "      <td>NaN</td>\n",
       "      <td>XCNQ</td>\n",
       "    </tr>\n",
       "    <tr>\n",
       "      <th>2</th>\n",
       "      <td>2</td>\n",
       "      <td>CANADIAN SECURITIES EXCHANGE - PURE</td>\n",
       "      <td>NaN</td>\n",
       "      <td>PURE</td>\n",
       "    </tr>\n",
       "    <tr>\n",
       "      <th>3</th>\n",
       "      <td>3</td>\n",
       "      <td>ZODIA MARKETS</td>\n",
       "      <td>GBP</td>\n",
       "      <td>ZODM</td>\n",
       "    </tr>\n",
       "    <tr>\n",
       "      <th>4</th>\n",
       "      <td>4</td>\n",
       "      <td>FENICS FX ECN</td>\n",
       "      <td>USD</td>\n",
       "      <td>FNFX</td>\n",
       "    </tr>\n",
       "    <tr>\n",
       "      <th>5</th>\n",
       "      <td>5</td>\n",
       "      <td>NASDAQ OSLO ASA</td>\n",
       "      <td>NaN</td>\n",
       "      <td>NORX</td>\n",
       "    </tr>\n",
       "    <tr>\n",
       "      <th>6</th>\n",
       "      <td>6</td>\n",
       "      <td>PORTFOLIO STOCK EXCHANGE</td>\n",
       "      <td>NaN</td>\n",
       "      <td>POSE</td>\n",
       "    </tr>\n",
       "    <tr>\n",
       "      <th>7</th>\n",
       "      <td>7</td>\n",
       "      <td>PUNDION LLC</td>\n",
       "      <td>USD</td>\n",
       "      <td>PUND</td>\n",
       "    </tr>\n",
       "    <tr>\n",
       "      <th>8</th>\n",
       "      <td>8</td>\n",
       "      <td>UNICREDIT BULBANK AD</td>\n",
       "      <td>NaN</td>\n",
       "      <td>UCBG</td>\n",
       "    </tr>\n",
       "    <tr>\n",
       "      <th>9</th>\n",
       "      <td>9</td>\n",
       "      <td>ASX - NEW ZEALAND FUTURES &amp; OPTIONS</td>\n",
       "      <td>NaN</td>\n",
       "      <td>NZFX</td>\n",
       "    </tr>\n",
       "    <tr>\n",
       "      <th>10</th>\n",
       "      <td>10</td>\n",
       "      <td>ONECHICAGO, LLC</td>\n",
       "      <td>USD</td>\n",
       "      <td>XOCH</td>\n",
       "    </tr>\n",
       "    <tr>\n",
       "      <th>11</th>\n",
       "      <td>11</td>\n",
       "      <td>BONDBLOX EXCHANGE</td>\n",
       "      <td>NaN</td>\n",
       "      <td>BBLX</td>\n",
       "    </tr>\n",
       "    <tr>\n",
       "      <th>12</th>\n",
       "      <td>12</td>\n",
       "      <td>BANK OF AMERICA SECURITIES - CENTRAL RISK</td>\n",
       "      <td>NaN</td>\n",
       "      <td>BACR</td>\n",
       "    </tr>\n",
       "    <tr>\n",
       "      <th>13</th>\n",
       "      <td>13</td>\n",
       "      <td>SPB EXCHANGE - ALL MARKETS</td>\n",
       "      <td>NaN</td>\n",
       "      <td>SPBE</td>\n",
       "    </tr>\n",
       "    <tr>\n",
       "      <th>14</th>\n",
       "      <td>14</td>\n",
       "      <td>OTC LINK ATS - OTC MARKETS</td>\n",
       "      <td>USD</td>\n",
       "      <td>OTCM</td>\n",
       "    </tr>\n",
       "    <tr>\n",
       "      <th>15</th>\n",
       "      <td>15</td>\n",
       "      <td>BOERSE STUTTGART - FREIVERKEHR - TECHNICAL PLA...</td>\n",
       "      <td>EUR</td>\n",
       "      <td>STUF</td>\n",
       "    </tr>\n",
       "    <tr>\n",
       "      <th>16</th>\n",
       "      <td>16</td>\n",
       "      <td>BOERSE STUTTGART - TECHNICAL PLATFORM 3</td>\n",
       "      <td>EUR</td>\n",
       "      <td>XSTP</td>\n",
       "    </tr>\n",
       "    <tr>\n",
       "      <th>17</th>\n",
       "      <td>17</td>\n",
       "      <td>BOERSE STUTTGART - REGULIERTER MARKT - TECHNIC...</td>\n",
       "      <td>EUR</td>\n",
       "      <td>STUE</td>\n",
       "    </tr>\n",
       "    <tr>\n",
       "      <th>18</th>\n",
       "      <td>18</td>\n",
       "      <td>COINBASE DERIVATIVES</td>\n",
       "      <td>USD</td>\n",
       "      <td>FREX</td>\n",
       "    </tr>\n",
       "    <tr>\n",
       "      <th>19</th>\n",
       "      <td>19</td>\n",
       "      <td>HI-CERT - MULTILATERAL TRADING FACILITY</td>\n",
       "      <td>NaN</td>\n",
       "      <td>HCER</td>\n",
       "    </tr>\n",
       "    <tr>\n",
       "      <th>20</th>\n",
       "      <td>20</td>\n",
       "      <td>IDX MARKETS, LLC</td>\n",
       "      <td>USD</td>\n",
       "      <td>IDXM</td>\n",
       "    </tr>\n",
       "    <tr>\n",
       "      <th>21</th>\n",
       "      <td>21</td>\n",
       "      <td>MILLENNIUM BCP</td>\n",
       "      <td>NaN</td>\n",
       "      <td>MBCP</td>\n",
       "    </tr>\n",
       "    <tr>\n",
       "      <th>22</th>\n",
       "      <td>22</td>\n",
       "      <td>MTF SOFIA - GROWTH MARKET</td>\n",
       "      <td>NaN</td>\n",
       "      <td>GMBG</td>\n",
       "    </tr>\n",
       "    <tr>\n",
       "      <th>23</th>\n",
       "      <td>23</td>\n",
       "      <td>BLUE OCEAN ALTERNATIVE TRADING SYSTEM</td>\n",
       "      <td>USD</td>\n",
       "      <td>OCEA</td>\n",
       "    </tr>\n",
       "    <tr>\n",
       "      <th>24</th>\n",
       "      <td>24</td>\n",
       "      <td>OSL DIGITAL SECURITIES EXCHANGE</td>\n",
       "      <td>NaN</td>\n",
       "      <td>OSDS</td>\n",
       "    </tr>\n",
       "    <tr>\n",
       "      <th>25</th>\n",
       "      <td>25</td>\n",
       "      <td>OSL SG EXCHANGES</td>\n",
       "      <td>NaN</td>\n",
       "      <td>OSSG</td>\n",
       "    </tr>\n",
       "    <tr>\n",
       "      <th>26</th>\n",
       "      <td>26</td>\n",
       "      <td>ROUTE4GAS</td>\n",
       "      <td>NaN</td>\n",
       "      <td>RR4G</td>\n",
       "    </tr>\n",
       "    <tr>\n",
       "      <th>27</th>\n",
       "      <td>27</td>\n",
       "      <td>TRADING 212 UK LIMITED</td>\n",
       "      <td>GBP</td>\n",
       "      <td>TRUK</td>\n",
       "    </tr>\n",
       "    <tr>\n",
       "      <th>28</th>\n",
       "      <td>28</td>\n",
       "      <td>UNITEDBLOCKTRADE</td>\n",
       "      <td>GBP</td>\n",
       "      <td>UGEN</td>\n",
       "    </tr>\n",
       "    <tr>\n",
       "      <th>29</th>\n",
       "      <td>29</td>\n",
       "      <td>WARSAW STOCK EXCHANGE/ EQUITIES/GLOBAL CONNECT...</td>\n",
       "      <td>NaN</td>\n",
       "      <td>XGLO</td>\n",
       "    </tr>\n",
       "  </tbody>\n",
       "</table>\n",
       "</div>"
      ],
      "text/plain": [
       "    id                                               name currency  code\n",
       "0    0                  EURONEXT  UK - REPORTING SERVICES      GBP  DRSP\n",
       "1    1                       CANADIAN SECURITIES EXCHANGE      NaN  XCNQ\n",
       "2    2                CANADIAN SECURITIES EXCHANGE - PURE      NaN  PURE\n",
       "3    3                                      ZODIA MARKETS      GBP  ZODM\n",
       "4    4                                      FENICS FX ECN      USD  FNFX\n",
       "5    5                                    NASDAQ OSLO ASA      NaN  NORX\n",
       "6    6                           PORTFOLIO STOCK EXCHANGE      NaN  POSE\n",
       "7    7                                        PUNDION LLC      USD  PUND\n",
       "8    8                               UNICREDIT BULBANK AD      NaN  UCBG\n",
       "9    9                ASX - NEW ZEALAND FUTURES & OPTIONS      NaN  NZFX\n",
       "10  10                                    ONECHICAGO, LLC      USD  XOCH\n",
       "11  11                                  BONDBLOX EXCHANGE      NaN  BBLX\n",
       "12  12          BANK OF AMERICA SECURITIES - CENTRAL RISK      NaN  BACR\n",
       "13  13                         SPB EXCHANGE - ALL MARKETS      NaN  SPBE\n",
       "14  14                         OTC LINK ATS - OTC MARKETS      USD  OTCM\n",
       "15  15  BOERSE STUTTGART - FREIVERKEHR - TECHNICAL PLA...      EUR  STUF\n",
       "16  16            BOERSE STUTTGART - TECHNICAL PLATFORM 3      EUR  XSTP\n",
       "17  17  BOERSE STUTTGART - REGULIERTER MARKT - TECHNIC...      EUR  STUE\n",
       "18  18                               COINBASE DERIVATIVES      USD  FREX\n",
       "19  19            HI-CERT - MULTILATERAL TRADING FACILITY      NaN  HCER\n",
       "20  20                                   IDX MARKETS, LLC      USD  IDXM\n",
       "21  21                                     MILLENNIUM BCP      NaN  MBCP\n",
       "22  22                          MTF SOFIA - GROWTH MARKET      NaN  GMBG\n",
       "23  23              BLUE OCEAN ALTERNATIVE TRADING SYSTEM      USD  OCEA\n",
       "24  24                    OSL DIGITAL SECURITIES EXCHANGE      NaN  OSDS\n",
       "25  25                                   OSL SG EXCHANGES      NaN  OSSG\n",
       "26  26                                          ROUTE4GAS      NaN  RR4G\n",
       "27  27                             TRADING 212 UK LIMITED      GBP  TRUK\n",
       "28  28                                   UNITEDBLOCKTRADE      GBP  UGEN\n",
       "29  29  WARSAW STOCK EXCHANGE/ EQUITIES/GLOBAL CONNECT...      NaN  XGLO"
      ]
     },
     "execution_count": 43,
     "metadata": {},
     "output_type": "execute_result"
    }
   ],
   "source": [
    "# create the column currency in the the dataframe exhange_data whose values \n",
    "#are mapped with the country code : US => USD, GB =>GBP, DE =>EUR\n",
    "mapping = {\"US\": \"USD\", \"GB\": \"GBP\", \"DE\": \"EUR\"}\n",
    "exchange_data['currency'] = exchange_data['country_code'].map(mapping)\n",
    "exchange_data[['id', 'name', 'currency', 'code']].head(30)"
   ]
  },
  {
   "cell_type": "code",
   "execution_count": null,
   "id": "627df7c5",
   "metadata": {
    "id": "627df7c5"
   },
   "outputs": [],
   "source": [
    "# save the data in a sql table exchange in the data db_name\n",
    "#YOUR CODE"
   ]
  },
  {
   "cell_type": "code",
   "execution_count": null,
   "id": "86ebce45",
   "metadata": {
    "id": "86ebce45",
    "outputId": "7f6a5774-8dfc-44d5-f4ef-55307b9a8707"
   },
   "outputs": [],
   "source": [
    "# scrape wiki table with symbols and details of Dow Jones constituents\n",
    "dj_constituents = pd.read_html('https://en.wikipedia.org/wiki/Dow_Jones_Industrial_Average#Components')[1]\n",
    "dj_constituents.rename(columns={'Company':'name', 'Industry': 'industry', 'Symbol': 'ticker'}, inplace=True)\n",
    "dj_constituents.head(30)"
   ]
  },
  {
   "cell_type": "code",
   "execution_count": null,
   "id": "59df670c",
   "metadata": {
    "id": "59df670c",
    "outputId": "57381b1a-d83b-4c8b-98f0-8fc506b28a53"
   },
   "outputs": [],
   "source": [
    "# scrape wiki table with symbols and details of s&P500 constituents\n",
    "sp_constituents = pd.read_html('https://en.wikipedia.org/wiki/List_of_S%26P_500_companies')[0]#.to_csv('constintuents_current.csv', index=False)\n",
    "sp_constituents.rename(columns={'Symbol': 'ticker', 'Security':'name', 'Headquarters Location': 'hq_location',\n",
    "                                'GICS Sector': 'sector', 'GICS Sub-Industry':'industry'},inplace=True)\n",
    "sp_constituents.head()"
   ]
  },
  {
   "cell_type": "code",
   "execution_count": null,
   "id": "9f1aec27",
   "metadata": {
    "id": "9f1aec27"
   },
   "outputs": [],
   "source": [
    "#concetenate the previous tables/dataframe sp_constituents & dj_constituents with  the columns'name', 'industry', 'sector', 'hq_location'\n",
    "\n",
    "#drop duplicate\n",
    "#sort\n",
    "#reset index\n",
    "#create the colum id based on the index\n",
    "#YOUR CODE \n",
    "company_table ="
   ]
  },
  {
   "cell_type": "code",
   "execution_count": null,
   "id": "aed4369c",
   "metadata": {
    "id": "aed4369c",
    "outputId": "fc39f3a5-6c86-4f44-e473-0fd551a5d2e6"
   },
   "outputs": [],
   "source": [
    "company_table"
   ]
  },
  {
   "cell_type": "code",
   "execution_count": null,
   "id": "bcc12fe9",
   "metadata": {
    "id": "bcc12fe9"
   },
   "outputs": [],
   "source": [
    "\n",
    "#concetenate the previous tables/dataframe sp_constituents & dj_constituents with  the columns'ticker', 'name'\n",
    "#drop duplicate\n",
    "#sort\n",
    "#reset index\n",
    "#create the colum id based on the index\n",
    "\n",
    "#YOUR CODE \n",
    "security_table = "
   ]
  },
  {
   "cell_type": "code",
   "execution_count": null,
   "id": "2eb7344b",
   "metadata": {
    "id": "2eb7344b",
    "outputId": "704a9c49-8e6c-4033-880d-1ad9f134e4bb"
   },
   "outputs": [],
   "source": [
    "security_table"
   ]
  },
  {
   "cell_type": "code",
   "execution_count": null,
   "id": "c9e6ef31",
   "metadata": {
    "id": "c9e6ef31",
    "outputId": "78bb8bac-a169-4299-c73f-462160553619"
   },
   "outputs": [],
   "source": [
    "#create the foreign key :  populating the security table with the company_id\n",
    "#first step : create a dictionary with key, value pairs being the name of the company and the corresponding id \n",
    "#within its own table, which will be our foreign key in the second table.\n",
    "\n",
    "#YOUT CODE \n",
    "company_id_mapper ="
   ]
  },
  {
   "cell_type": "code",
   "execution_count": null,
   "id": "7d92c306",
   "metadata": {
    "id": "7d92c306",
    "outputId": "a477984a-955d-4670-e628-fd896add595c"
   },
   "outputs": [],
   "source": [
    "#Seconde step: create the foreign key company id \n",
    "#YOUR CODE "
   ]
  },
  {
   "cell_type": "code",
   "execution_count": null,
   "id": "3791c570",
   "metadata": {
    "id": "3791c570"
   },
   "outputs": [],
   "source": [
    "#create the foreign key : populate the company table with the security_id:\n",
    "#YOUR CODE "
   ]
  },
  {
   "cell_type": "code",
   "execution_count": null,
   "id": "02d99d1c",
   "metadata": {
    "id": "02d99d1c",
    "outputId": "24c2a98b-8fa7-4d3d-9b2e-590408fbc6e0"
   },
   "outputs": [],
   "source": [
    "#Reda the nyse.csv and the nasdaq.csv\n",
    "#YOUR CODE \n",
    "nyse.head()"
   ]
  },
  {
   "cell_type": "code",
   "execution_count": null,
   "id": "13b1f567",
   "metadata": {
    "id": "13b1f567",
    "outputId": "61d8d06b-746a-497f-99cb-0ef87f62b650"
   },
   "outputs": [],
   "source": [
    "nasdaq.head()"
   ]
  },
  {
   "cell_type": "code",
   "execution_count": null,
   "id": "151e5d76",
   "metadata": {
    "id": "151e5d76",
    "outputId": "ef362002-b9d7-4bf1-ad1f-691be8d8f138"
   },
   "outputs": [],
   "source": [
    "#populate the exchange_id column : assign the correct exchange_id for each stock in the security table:\n",
    "# the exchange_id of the nyse stocks will be 1300\n",
    "#YOUR CODE\n",
    "security_table"
   ]
  },
  {
   "cell_type": "code",
   "execution_count": null,
   "id": "7712655b",
   "metadata": {
    "id": "7712655b",
    "outputId": "93a5ea9d-4d45-4c43-8a71-accec7d7c7f5"
   },
   "outputs": [],
   "source": [
    "#populate the exchange_id column : assign the correct exchange_id for each stock in the security table:\n",
    "# the exchange_id of  will be 1300 for the nyse stocks and 367 for the nasdaq stocks\n",
    "#YOUR CODE\n",
    "\n",
    "#YOUR CODE \n",
    "security_table.head(30)"
   ]
  },
  {
   "cell_type": "code",
   "execution_count": null,
   "id": "22cde763",
   "metadata": {
    "id": "22cde763"
   },
   "outputs": [],
   "source": [
    "#save the data in the sql table security and company of the database db_name\n",
    "#YOUR CODE "
   ]
  },
  {
   "cell_type": "code",
   "execution_count": null,
   "id": "11bc35f2",
   "metadata": {
    "colab": {
     "referenced_widgets": [
      "dbcf183f85eb4ccbad4aa48facc44ee9"
     ]
    },
    "id": "11bc35f2",
    "outputId": "560df6ff-2b9c-4a5d-be38-280d977c6e4b"
   },
   "outputs": [],
   "source": [
    "#Extraction the prices of YAHOO: WARNING this action may take 15 min !!!\n",
    "from tqdm import tqdm_notebook as tqdm\n",
    "import pandas_datareader.data as web\n",
    "stock_pricing_dfs = []\n",
    "for stock_id in tqdm(security_table['id']):\n",
    "    try:\n",
    "        stock_pricing_df = web.DataReader(security_table.iloc[stock_id]['ticker'], \n",
    "                           start='2010-1-1', \n",
    "                           end='2020-08-31', \n",
    "                           data_source='yahoo')\n",
    "        stock_pricing_df['security_id'] = stock_id\n",
    "        stock_pricing_dfs.append(stock_pricing_df)\n",
    "    except:\n",
    "        pass\n",
    "security_price_table = pd.concat(stock_pricing_dfs)"
   ]
  },
  {
   "cell_type": "code",
   "execution_count": null,
   "id": "910c22d3",
   "metadata": {
    "id": "910c22d3",
    "outputId": "4a277ed3-e80a-4420-835b-bd6170b3c37c"
   },
   "outputs": [],
   "source": [
    "security_price_table.info()"
   ]
  },
  {
   "cell_type": "code",
   "execution_count": null,
   "id": "6fb85891",
   "metadata": {
    "id": "6fb85891",
    "outputId": "a611cea0-4532-4d3b-a57c-a1a500cdf7c7"
   },
   "outputs": [],
   "source": [
    "#insert data in the table security_price\n",
    "security_price_table.columns = ['high', 'low', 'open', 'close', 'volume', 'adj_close', 'security_id']\n",
    "security_price_table.reset_index(inplace=True)\n",
    "security_price_table['id'] = security_price_table.index\n",
    "print(security_price_table.head())\n",
    "security_price_table.to_sql(\"security_price\", conn, if_exists=\"append\", index=False)"
   ]
  },
  {
   "cell_type": "markdown",
   "id": "51352894",
   "metadata": {
    "id": "51352894"
   },
   "source": []
  }
 ],
 "metadata": {
  "colab": {
   "provenance": []
  },
  "kernelspec": {
   "display_name": "Python 3 (ipykernel)",
   "language": "python",
   "name": "python3"
  },
  "language_info": {
   "codemirror_mode": {
    "name": "ipython",
    "version": 3
   },
   "file_extension": ".py",
   "mimetype": "text/x-python",
   "name": "python",
   "nbconvert_exporter": "python",
   "pygments_lexer": "ipython3",
   "version": "3.9.12"
  }
 },
 "nbformat": 4,
 "nbformat_minor": 5
}
